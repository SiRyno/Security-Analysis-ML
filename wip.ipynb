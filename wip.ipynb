{
 "cells": [
  {
   "cell_type": "code",
   "execution_count": 1,
   "id": "26820651-cfa6-4bfd-b98d-9b8711143aec",
   "metadata": {},
   "outputs": [],
   "source": [
    "import pandas as pd\n",
    "import matplotlib.pyplot as plt\n",
    "import numpy as np\n",
    "import datetime as dt\n",
    "import pandas_datareader as web"
   ]
  },
  {
   "cell_type": "code",
   "execution_count": 2,
   "id": "7b1c159f-6084-4a6c-b8b7-0eaaf9f47a1e",
   "metadata": {},
   "outputs": [],
   "source": [
    "tick = pd.read_csv(\"nifty_sec.csv\", header=0, index_col='Unnamed: 0')"
   ]
  },
  {
   "cell_type": "code",
   "execution_count": 3,
   "id": "7bc9714e-0f93-481c-8c65-cb55cb067705",
   "metadata": {},
   "outputs": [
    {
     "data": {
      "text/html": [
       "<div>\n",
       "<style scoped>\n",
       "    .dataframe tbody tr th:only-of-type {\n",
       "        vertical-align: middle;\n",
       "    }\n",
       "\n",
       "    .dataframe tbody tr th {\n",
       "        vertical-align: top;\n",
       "    }\n",
       "\n",
       "    .dataframe thead th {\n",
       "        text-align: right;\n",
       "    }\n",
       "</style>\n",
       "<table border=\"1\" class=\"dataframe\">\n",
       "  <thead>\n",
       "    <tr style=\"text-align: right;\">\n",
       "      <th></th>\n",
       "      <th>SYMBOL</th>\n",
       "      <th>NAME OF COMPANY</th>\n",
       "      <th>SERIES</th>\n",
       "      <th>DATE OF LISTING</th>\n",
       "      <th>PAID UP VALUE</th>\n",
       "      <th>MARKET LOT</th>\n",
       "      <th>ISIN NUMBER</th>\n",
       "      <th>FACE VALUE</th>\n",
       "    </tr>\n",
       "  </thead>\n",
       "  <tbody>\n",
       "    <tr>\n",
       "      <th>0</th>\n",
       "      <td>20MICRONS</td>\n",
       "      <td>20 Microns Limited</td>\n",
       "      <td>EQ</td>\n",
       "      <td>06-OCT-2008</td>\n",
       "      <td>5.0</td>\n",
       "      <td>1</td>\n",
       "      <td>INE144J01027</td>\n",
       "      <td>5</td>\n",
       "    </tr>\n",
       "    <tr>\n",
       "      <th>1</th>\n",
       "      <td>21STCENMGM</td>\n",
       "      <td>21st Century Management Services Limited</td>\n",
       "      <td>EQ</td>\n",
       "      <td>03-MAY-1995</td>\n",
       "      <td>10.0</td>\n",
       "      <td>1</td>\n",
       "      <td>INE253B01015</td>\n",
       "      <td>10</td>\n",
       "    </tr>\n",
       "    <tr>\n",
       "      <th>2</th>\n",
       "      <td>3IINFOLTD</td>\n",
       "      <td>3i Infotech Limited</td>\n",
       "      <td>EQ</td>\n",
       "      <td>22-OCT-2021</td>\n",
       "      <td>10.0</td>\n",
       "      <td>1</td>\n",
       "      <td>INE748C01038</td>\n",
       "      <td>10</td>\n",
       "    </tr>\n",
       "    <tr>\n",
       "      <th>3</th>\n",
       "      <td>3MINDIA</td>\n",
       "      <td>3M India Limited</td>\n",
       "      <td>EQ</td>\n",
       "      <td>13-AUG-2004</td>\n",
       "      <td>10.0</td>\n",
       "      <td>1</td>\n",
       "      <td>INE470A01017</td>\n",
       "      <td>10</td>\n",
       "    </tr>\n",
       "    <tr>\n",
       "      <th>4</th>\n",
       "      <td>3PLAND</td>\n",
       "      <td>3P Land Holdings Limited</td>\n",
       "      <td>EQ</td>\n",
       "      <td>19-JUL-1995</td>\n",
       "      <td>2.0</td>\n",
       "      <td>1</td>\n",
       "      <td>INE105C01023</td>\n",
       "      <td>2</td>\n",
       "    </tr>\n",
       "  </tbody>\n",
       "</table>\n",
       "</div>"
      ],
      "text/plain": [
       "       SYMBOL                           NAME OF COMPANY  SERIES  \\\n",
       "0   20MICRONS                        20 Microns Limited      EQ   \n",
       "1  21STCENMGM  21st Century Management Services Limited      EQ   \n",
       "2   3IINFOLTD                       3i Infotech Limited      EQ   \n",
       "3     3MINDIA                          3M India Limited      EQ   \n",
       "4      3PLAND                  3P Land Holdings Limited      EQ   \n",
       "\n",
       "   DATE OF LISTING   PAID UP VALUE   MARKET LOT   ISIN NUMBER   FACE VALUE  \n",
       "0      06-OCT-2008             5.0            1  INE144J01027            5  \n",
       "1      03-MAY-1995            10.0            1  INE253B01015           10  \n",
       "2      22-OCT-2021            10.0            1  INE748C01038           10  \n",
       "3      13-AUG-2004            10.0            1  INE470A01017           10  \n",
       "4      19-JUL-1995             2.0            1  INE105C01023            2  "
      ]
     },
     "execution_count": 3,
     "metadata": {},
     "output_type": "execute_result"
    }
   ],
   "source": [
    "tick.head()"
   ]
  },
  {
   "cell_type": "code",
   "execution_count": 6,
   "id": "6e309d51-ac5c-4418-8727-bf2365494810",
   "metadata": {},
   "outputs": [],
   "source": [
    "ticker = list(tick['SYMBOL'])\n",
    "# ticker"
   ]
  },
  {
   "cell_type": "code",
   "execution_count": 8,
   "id": "ee989ec1",
   "metadata": {},
   "outputs": [
    {
     "data": {
      "text/plain": [
       "['20MICRONS.NS', '21STCENMGM.NS', '3IINFOLTD.NS', '3MINDIA.NS', '3PLAND.NS']"
      ]
     },
     "execution_count": 8,
     "metadata": {},
     "output_type": "execute_result"
    }
   ],
   "source": [
    "ticker = [s +\".NS\" for s in ticker]\n",
    "ticker[:5]"
   ]
  },
  {
   "cell_type": "code",
   "execution_count": 9,
   "id": "83474d5a-cfc7-4aa3-83c8-41cb3ef9cd3d",
   "metadata": {},
   "outputs": [],
   "source": [
    "start = dt.datetime(2000, 1, 1)\n",
    "end = dt.datetime.now()\n",
    "\n",
    "df = web.get_data_yahoo(ticker[11], start, end)"
   ]
  },
  {
   "cell_type": "code",
   "execution_count": 10,
   "id": "da93461c-da63-430b-bd96-8a6635bf44b7",
   "metadata": {},
   "outputs": [
    {
     "data": {
      "text/html": [
       "<div>\n",
       "<style scoped>\n",
       "    .dataframe tbody tr th:only-of-type {\n",
       "        vertical-align: middle;\n",
       "    }\n",
       "\n",
       "    .dataframe tbody tr th {\n",
       "        vertical-align: top;\n",
       "    }\n",
       "\n",
       "    .dataframe thead th {\n",
       "        text-align: right;\n",
       "    }\n",
       "</style>\n",
       "<table border=\"1\" class=\"dataframe\">\n",
       "  <thead>\n",
       "    <tr style=\"text-align: right;\">\n",
       "      <th></th>\n",
       "      <th>High</th>\n",
       "      <th>Low</th>\n",
       "      <th>Open</th>\n",
       "      <th>Close</th>\n",
       "      <th>Volume</th>\n",
       "      <th>Adj Close</th>\n",
       "    </tr>\n",
       "    <tr>\n",
       "      <th>Date</th>\n",
       "      <th></th>\n",
       "      <th></th>\n",
       "      <th></th>\n",
       "      <th></th>\n",
       "      <th></th>\n",
       "      <th></th>\n",
       "    </tr>\n",
       "  </thead>\n",
       "  <tbody>\n",
       "    <tr>\n",
       "      <th>2003-09-19</th>\n",
       "      <td>11.06250</td>\n",
       "      <td>10.125</td>\n",
       "      <td>10.64375</td>\n",
       "      <td>10.6750</td>\n",
       "      <td>485600.0</td>\n",
       "      <td>6.959886</td>\n",
       "    </tr>\n",
       "    <tr>\n",
       "      <th>2003-09-22</th>\n",
       "      <td>11.20625</td>\n",
       "      <td>10.775</td>\n",
       "      <td>10.77500</td>\n",
       "      <td>11.1875</td>\n",
       "      <td>1109600.0</td>\n",
       "      <td>7.294025</td>\n",
       "    </tr>\n",
       "  </tbody>\n",
       "</table>\n",
       "</div>"
      ],
      "text/plain": [
       "                High     Low      Open    Close     Volume  Adj Close\n",
       "Date                                                                 \n",
       "2003-09-19  11.06250  10.125  10.64375  10.6750   485600.0   6.959886\n",
       "2003-09-22  11.20625  10.775  10.77500  11.1875  1109600.0   7.294025"
      ]
     },
     "execution_count": 10,
     "metadata": {},
     "output_type": "execute_result"
    }
   ],
   "source": [
    "df.head(2)"
   ]
  },
  {
   "cell_type": "code",
   "execution_count": 11,
   "id": "8d254eee",
   "metadata": {},
   "outputs": [
    {
     "data": {
      "text/plain": [
       "[<matplotlib.lines.Line2D at 0x2509082f250>]"
      ]
     },
     "execution_count": 11,
     "metadata": {},
     "output_type": "execute_result"
    },
    {
     "data": {
      "image/png": "[encoded data removed]",
      "text/plain": [
       "<Figure size 720x504 with 1 Axes>"
      ]
     },
     "metadata": {
      "needs_background": "light"
     },
     "output_type": "display_data"
    }
   ],
   "source": [
    "plt.figure(figsize=(10,7))\n",
    "plt.plot(df['Adj Close'])"
   ]
  },
  {
   "cell_type": "code",
   "execution_count": 12,
   "id": "6e27b291",
   "metadata": {},
   "outputs": [
    {
     "data": {
      "text/plain": [
       "4526"
      ]
     },
     "execution_count": 12,
     "metadata": {},
     "output_type": "execute_result"
    }
   ],
   "source": [
    "len(df)"
   ]
  },
  {
   "cell_type": "code",
   "execution_count": 20,
   "id": "27952091",
   "metadata": {},
   "outputs": [
    {
     "data": {
      "text/plain": [
       "array([[   0,    1,    2, ...,   28,   29,   30],\n",
       "       [   1,    2,    3, ...,   29,   30,   31],\n",
       "       [   2,    3,    4, ...,   30,   31,   32],\n",
       "       ...,\n",
       "       [4493, 4494, 4495, ..., 4521, 4522, 4523],\n",
       "       [4494, 4495, 4496, ..., 4522, 4523, 4524],\n",
       "       [4495, 4496, 4497, ..., 4523, 4524, 4525]])"
      ]
     },
     "execution_count": 20,
     "metadata": {},
     "output_type": "execute_result"
    }
   ],
   "source": [
    "window = 30\n",
    "\n",
    "num_samples = len(df) - window\n",
    "indices = np.arange(num_samples).astype(int)[:,None] + np.arange(window+1).astype(int)\n",
    "indices"
   ]
  },
  {
   "cell_type": "code",
   "execution_count": 21,
   "id": "80e6ae18",
   "metadata": {},
   "outputs": [
    {
     "data": {
      "text/plain": [
       "array([[  6.95988607,   7.29402542,   7.5833416 , ...,   6.37717915,\n",
       "          6.69909334,   7.03730822],\n",
       "       [  7.29402542,   7.5833416 ,   7.40812159, ...,   6.69909334,\n",
       "          7.03730822,   7.19215298],\n",
       "       [  7.5833416 ,   7.40812159,   7.29809904, ...,   7.03730822,\n",
       "          7.19215298,   7.0699091 ],\n",
       "       ...,\n",
       "       [552.90002441, 552.90002441, 546.65002441, ..., 523.09997559,\n",
       "        521.09997559, 524.79998779],\n",
       "       [552.90002441, 546.65002441, 549.09997559, ..., 521.09997559,\n",
       "        524.79998779, 523.        ],\n",
       "       [546.65002441, 549.09997559, 539.5       , ..., 524.79998779,\n",
       "        523.        , 519.15002441]])"
      ]
     },
     "execution_count": 21,
     "metadata": {},
     "output_type": "execute_result"
    }
   ],
   "source": [
    "data = df['Adj Close'].values[indices]\n",
    "data"
   ]
  },
  {
   "cell_type": "code",
   "execution_count": 22,
   "id": "d0803600",
   "metadata": {},
   "outputs": [],
   "source": [
    "X = data[:, :-1]\n",
    "y = data[:, -1]"
   ]
  },
  {
   "cell_type": "code",
   "execution_count": 24,
   "id": "6d39ac6f",
   "metadata": {},
   "outputs": [
    {
     "data": {
      "text/plain": [
       "(30,)"
      ]
     },
     "execution_count": 24,
     "metadata": {},
     "output_type": "execute_result"
    }
   ],
   "source": [
    "X[0].shape"
   ]
  },
  {
   "cell_type": "code",
   "execution_count": 25,
   "id": "4f9d74bf",
   "metadata": {},
   "outputs": [],
   "source": [
    "from sklearn.model_selection import train_test_split\n",
    "\n",
    "X_train, X_test, y_train, y_test = train_test_split(X, y, test_size=0.2, random_state=42, shuffle=False)"
   ]
  },
  {
   "cell_type": "code",
   "execution_count": 26,
   "id": "aa6f8fe7",
   "metadata": {},
   "outputs": [
    {
     "data": {
      "text/plain": [
       "(array([[  6.95988607,   7.29402542,   7.5833416 , ...,   6.56054783,\n",
       "           6.37717915,   6.69909334],\n",
       "        [  7.29402542,   7.5833416 ,   7.40812159, ...,   6.37717915,\n",
       "           6.69909334,   7.03730822],\n",
       "        [  7.5833416 ,   7.40812159,   7.29809904, ...,   6.69909334,\n",
       "           7.03730822,   7.19215298],\n",
       "        ...,\n",
       "        [132.78233337, 129.77461243, 129.49226379, ..., 143.48744202,\n",
       "         140.86027527, 140.02545166],\n",
       "        [129.77461243, 129.49226379, 129.16078186, ..., 140.86027527,\n",
       "         140.02545166, 138.23310852],\n",
       "        [129.49226379, 129.16078186, 126.05484772, ..., 140.02545166,\n",
       "         138.23310852, 137.65611267]]),\n",
       " array([  7.03730822,   7.19215298,   7.0699091 , ..., 138.23310852,\n",
       "        137.65611267, 137.1282196 ]))"
      ]
     },
     "execution_count": 26,
     "metadata": {},
     "output_type": "execute_result"
    }
   ],
   "source": [
    "X_train, y_train"
   ]
  },
  {
   "cell_type": "markdown",
   "id": "09d401b3",
   "metadata": {},
   "source": [
    "## Linear Regression"
   ]
  },
  {
   "cell_type": "code",
   "execution_count": 27,
   "id": "87fe3067",
   "metadata": {},
   "outputs": [
    {
     "data": {
      "text/plain": [
       "LinearRegression()"
      ]
     },
     "execution_count": 27,
     "metadata": {},
     "output_type": "execute_result"
    }
   ],
   "source": [
    "from sklearn.linear_model import LinearRegression\n",
    "\n",
    "lr = LinearRegression()\n",
    "lr.fit(X_train, y_train)"
   ]
  },
  {
   "cell_type": "code",
   "execution_count": 28,
   "id": "745227ae",
   "metadata": {},
   "outputs": [],
   "source": [
    "y_pred = lr.predict(X_test)"
   ]
  },
  {
   "cell_type": "code",
   "execution_count": 30,
   "id": "41b51313",
   "metadata": {},
   "outputs": [
    {
     "data": {
      "text/plain": [
       "7.044267946177508"
      ]
     },
     "execution_count": 30,
     "metadata": {},
     "output_type": "execute_result"
    }
   ],
   "source": [
    "from sklearn.metrics import mean_absolute_error\n",
    "\n",
    "mean_absolute_error(y_test, y_pred)"
   ]
  },
  {
   "cell_type": "code",
   "execution_count": 35,
   "id": "afe7e9d0",
   "metadata": {},
   "outputs": [],
   "source": [
    "split_frac = 0.8\n",
    "split_indices = int(split_frac * num_samples)"
   ]
  },
  {
   "cell_type": "code",
   "execution_count": 43,
   "id": "c8ca8462",
   "metadata": {},
   "outputs": [
    {
     "ename": "ValueError",
     "evalue": "Length of values (870) does not match length of index (4526)",
     "output_type": "error",
     "traceback": [
      "\u001b[1;31m---------------------------------------------------------------------------\u001b[0m",
      "\u001b[1;31mValueError\u001b[0m                                Traceback (most recent call last)",
      "\u001b[1;32m~\\AppData\\Local\\Temp/ipykernel_13212/1654976531.py\u001b[0m in \u001b[0;36m<module>\u001b[1;34m\u001b[0m\n\u001b[1;32m----> 1\u001b[1;33m \u001b[0mdf\u001b[0m\u001b[1;33m[\u001b[0m\u001b[1;34m'pred'\u001b[0m\u001b[1;33m]\u001b[0m \u001b[1;33m=\u001b[0m \u001b[0my_pred\u001b[0m\u001b[1;33m[\u001b[0m\u001b[1;33m:\u001b[0m\u001b[1;33m-\u001b[0m\u001b[0mwindow\u001b[0m\u001b[1;33m]\u001b[0m\u001b[1;33m\u001b[0m\u001b[1;33m\u001b[0m\u001b[0m\n\u001b[0m",
      "\u001b[1;32m~\\anaconda3\\lib\\site-packages\\pandas\\core\\frame.py\u001b[0m in \u001b[0;36m__setitem__\u001b[1;34m(self, key, value)\u001b[0m\n\u001b[0;32m   3610\u001b[0m         \u001b[1;32melse\u001b[0m\u001b[1;33m:\u001b[0m\u001b[1;33m\u001b[0m\u001b[1;33m\u001b[0m\u001b[0m\n\u001b[0;32m   3611\u001b[0m             \u001b[1;31m# set column\u001b[0m\u001b[1;33m\u001b[0m\u001b[1;33m\u001b[0m\u001b[0m\n\u001b[1;32m-> 3612\u001b[1;33m             \u001b[0mself\u001b[0m\u001b[1;33m.\u001b[0m\u001b[0m_set_item\u001b[0m\u001b[1;33m(\u001b[0m\u001b[0mkey\u001b[0m\u001b[1;33m,\u001b[0m \u001b[0mvalue\u001b[0m\u001b[1;33m)\u001b[0m\u001b[1;33m\u001b[0m\u001b[1;33m\u001b[0m\u001b[0m\n\u001b[0m\u001b[0;32m   3613\u001b[0m \u001b[1;33m\u001b[0m\u001b[0m\n\u001b[0;32m   3614\u001b[0m     \u001b[1;32mdef\u001b[0m \u001b[0m_setitem_slice\u001b[0m\u001b[1;33m(\u001b[0m\u001b[0mself\u001b[0m\u001b[1;33m,\u001b[0m \u001b[0mkey\u001b[0m\u001b[1;33m:\u001b[0m \u001b[0mslice\u001b[0m\u001b[1;33m,\u001b[0m \u001b[0mvalue\u001b[0m\u001b[1;33m)\u001b[0m\u001b[1;33m:\u001b[0m\u001b[1;33m\u001b[0m\u001b[1;33m\u001b[0m\u001b[0m\n",
      "\u001b[1;32m~\\anaconda3\\lib\\site-packages\\pandas\\core\\frame.py\u001b[0m in \u001b[0;36m_set_item\u001b[1;34m(self, key, value)\u001b[0m\n\u001b[0;32m   3782\u001b[0m         \u001b[0mensure\u001b[0m \u001b[0mhomogeneity\u001b[0m\u001b[1;33m.\u001b[0m\u001b[1;33m\u001b[0m\u001b[1;33m\u001b[0m\u001b[0m\n\u001b[0;32m   3783\u001b[0m         \"\"\"\n\u001b[1;32m-> 3784\u001b[1;33m         \u001b[0mvalue\u001b[0m \u001b[1;33m=\u001b[0m \u001b[0mself\u001b[0m\u001b[1;33m.\u001b[0m\u001b[0m_sanitize_column\u001b[0m\u001b[1;33m(\u001b[0m\u001b[0mvalue\u001b[0m\u001b[1;33m)\u001b[0m\u001b[1;33m\u001b[0m\u001b[1;33m\u001b[0m\u001b[0m\n\u001b[0m\u001b[0;32m   3785\u001b[0m \u001b[1;33m\u001b[0m\u001b[0m\n\u001b[0;32m   3786\u001b[0m         if (\n",
      "\u001b[1;32m~\\anaconda3\\lib\\site-packages\\pandas\\core\\frame.py\u001b[0m in \u001b[0;36m_sanitize_column\u001b[1;34m(self, value)\u001b[0m\n\u001b[0;32m   4507\u001b[0m \u001b[1;33m\u001b[0m\u001b[0m\n\u001b[0;32m   4508\u001b[0m         \u001b[1;32mif\u001b[0m \u001b[0mis_list_like\u001b[0m\u001b[1;33m(\u001b[0m\u001b[0mvalue\u001b[0m\u001b[1;33m)\u001b[0m\u001b[1;33m:\u001b[0m\u001b[1;33m\u001b[0m\u001b[1;33m\u001b[0m\u001b[0m\n\u001b[1;32m-> 4509\u001b[1;33m             \u001b[0mcom\u001b[0m\u001b[1;33m.\u001b[0m\u001b[0mrequire_length_match\u001b[0m\u001b[1;33m(\u001b[0m\u001b[0mvalue\u001b[0m\u001b[1;33m,\u001b[0m \u001b[0mself\u001b[0m\u001b[1;33m.\u001b[0m\u001b[0mindex\u001b[0m\u001b[1;33m)\u001b[0m\u001b[1;33m\u001b[0m\u001b[1;33m\u001b[0m\u001b[0m\n\u001b[0m\u001b[0;32m   4510\u001b[0m         \u001b[1;32mreturn\u001b[0m \u001b[0msanitize_array\u001b[0m\u001b[1;33m(\u001b[0m\u001b[0mvalue\u001b[0m\u001b[1;33m,\u001b[0m \u001b[0mself\u001b[0m\u001b[1;33m.\u001b[0m\u001b[0mindex\u001b[0m\u001b[1;33m,\u001b[0m \u001b[0mcopy\u001b[0m\u001b[1;33m=\u001b[0m\u001b[1;32mTrue\u001b[0m\u001b[1;33m,\u001b[0m \u001b[0mallow_2d\u001b[0m\u001b[1;33m=\u001b[0m\u001b[1;32mTrue\u001b[0m\u001b[1;33m)\u001b[0m\u001b[1;33m\u001b[0m\u001b[1;33m\u001b[0m\u001b[0m\n\u001b[0;32m   4511\u001b[0m \u001b[1;33m\u001b[0m\u001b[0m\n",
      "\u001b[1;32m~\\anaconda3\\lib\\site-packages\\pandas\\core\\common.py\u001b[0m in \u001b[0;36mrequire_length_match\u001b[1;34m(data, index)\u001b[0m\n\u001b[0;32m    529\u001b[0m     \"\"\"\n\u001b[0;32m    530\u001b[0m     \u001b[1;32mif\u001b[0m \u001b[0mlen\u001b[0m\u001b[1;33m(\u001b[0m\u001b[0mdata\u001b[0m\u001b[1;33m)\u001b[0m \u001b[1;33m!=\u001b[0m \u001b[0mlen\u001b[0m\u001b[1;33m(\u001b[0m\u001b[0mindex\u001b[0m\u001b[1;33m)\u001b[0m\u001b[1;33m:\u001b[0m\u001b[1;33m\u001b[0m\u001b[1;33m\u001b[0m\u001b[0m\n\u001b[1;32m--> 531\u001b[1;33m         raise ValueError(\n\u001b[0m\u001b[0;32m    532\u001b[0m             \u001b[1;34m\"Length of values \"\u001b[0m\u001b[1;33m\u001b[0m\u001b[1;33m\u001b[0m\u001b[0m\n\u001b[0;32m    533\u001b[0m             \u001b[1;34mf\"({len(data)}) \"\u001b[0m\u001b[1;33m\u001b[0m\u001b[1;33m\u001b[0m\u001b[0m\n",
      "\u001b[1;31mValueError\u001b[0m: Length of values (870) does not match length of index (4526)"
     ]
    }
   ],
   "source": [
    "df['pred'] = y_pred[:-window]"
   ]
  },
  {
   "cell_type": "code",
   "execution_count": 44,
   "id": "8334c54d",
   "metadata": {},
   "outputs": [
    {
     "data": {
      "text/plain": [
       "[<matplotlib.lines.Line2D at 0x2509323f430>]"
      ]
     },
     "execution_count": 44,
     "metadata": {},
     "output_type": "execute_result"
    },
    {
     "data": {
      "image/png": "[encoded data removed]",
      "text/plain": [
       "<Figure size 432x288 with 1 Axes>"
      ]
     },
     "metadata": {
      "needs_background": "light"
     },
     "output_type": "display_data"
    }
   ],
   "source": [
    "plt.plot(y_test)\n",
    "plt.plot(y_pred, c='r')"
   ]
  },
  {
   "cell_type": "code",
   "execution_count": 34,
   "id": "79d6ff40",
   "metadata": {},
   "outputs": [
    {
     "data": {
      "text/plain": [
       "array([ 137.49019645,  140.28517787,  142.87620817,  140.65775   ,\n",
       "        136.67403662,  136.11333861,  134.86573534,  138.81472849,\n",
       "        138.15989834,  134.87316614,  133.2752825 ,  133.27898586,\n",
       "        130.73036301,  130.81447468,  132.28163403,  131.73088809,\n",
       "        129.24846967,  127.66700743,  127.43542985,  129.03652273,\n",
       "        130.83830234,  126.68915871,  130.1892817 ,  129.91465411,\n",
       "        127.52568771,  128.4713489 ,  130.68722035,  131.54577074,\n",
       "        136.04484864,  152.32636271,  149.45144996,  153.20534544,\n",
       "        150.84816794,  145.43618223,  149.87838668,  148.06592515,\n",
       "        142.81009088,  135.92654163,  128.76460997,  135.04040012,\n",
       "        132.59595509,  131.87249005,  136.62995165,  135.33194589,\n",
       "        135.50154702,  140.57950148,  137.98546387,  136.65687013,\n",
       "        128.77939203,  127.92431872,  129.26947814,  127.67179552,\n",
       "        131.04440949,  128.12080104,  128.66141267,  129.26172238,\n",
       "        129.20502583,  130.5135422 ,  134.23148995,  136.09243414,\n",
       "        138.06381572,  136.84343632,  135.22737043,  137.55681632,\n",
       "        137.49330971,  137.45356398,  136.61508022,  136.34007788,\n",
       "        137.47324834,  136.80727993,  140.77144604,  136.31704411,\n",
       "        134.86079521,  136.36254143,  136.12279601,  135.95549437,\n",
       "        136.363377  ,  135.38008427,  136.25448229,  136.03580437,\n",
       "        134.76271768,  135.76664145,  137.42750254,  140.62460725,\n",
       "        149.85334375,  147.80847667,  153.45977393,  156.00100969,\n",
       "        153.98929517,  154.40492722,  154.67384182,  157.83039893,\n",
       "        159.82565172,  156.32448971,  152.89230774,  143.65408832,\n",
       "        142.70618392,  141.77552387,  145.69291321,  142.39123236,\n",
       "        136.27393585,  137.68481803,  140.20584489,  137.81182566,\n",
       "        135.89151983,  137.69691702,  138.75018905,  144.98289435,\n",
       "        140.7938783 ,  141.45920087,  143.41581764,  144.03548604,\n",
       "        143.10354539,  141.52933662,  143.59973816,  142.63604762,\n",
       "        143.35045761,  143.33469071,  140.98350177,  143.44486777,\n",
       "        142.4076183 ,  146.97237923,  150.29365958,  141.12760095,\n",
       "        142.83010836,  143.73618876,  141.81629967,  142.56504583,\n",
       "        143.04934347,  142.30418119,  142.99398903,  141.82047546,\n",
       "        141.08967025,  140.27607275,  135.61706701,  136.26766436,\n",
       "        136.21105706,  138.16952104,  139.30154518,  139.00121808,\n",
       "        137.57225836,  137.02223763,  139.95829788,  139.79281332,\n",
       "        139.02159785,  139.1741152 ,  139.86000697,  138.73155139,\n",
       "        138.97037693,  138.35414482,  138.79408841,  139.25623933,\n",
       "        140.29000585,  139.96664791,  139.43090636,  140.06152089,\n",
       "        140.24151603,  140.00657919,  142.14448841,  140.49576039,\n",
       "        142.2108228 ,  143.39183727,  142.6149468 ,  142.33883958,\n",
       "        142.36484112,  141.82036838,  143.71547394,  144.59298867,\n",
       "        144.73873771,  146.37240176,  149.8326959 ,  153.58412122,\n",
       "        150.45085707,  148.4567344 ,  150.38320001,  148.68648964,\n",
       "        149.93343896,  149.67698063,  150.1814042 ,  149.12563784,\n",
       "        149.23598617,  146.41921081,  144.75970713,  146.46271497,\n",
       "        146.17103213,  147.4748006 ,  146.41273738,  145.84878213,\n",
       "        146.16473671,  147.18791939,  146.17461188,  145.82088982,\n",
       "        143.69672115,  143.80478827,  145.14815274,  145.19555329,\n",
       "        144.78570364,  145.2321139 ,  146.58485106,  146.2976137 ,\n",
       "        147.16132576,  145.80385776,  145.77540474,  146.30817278,\n",
       "        147.14660387,  146.53907419,  155.39860813,  157.34575547,\n",
       "        166.53123021,  165.38366693,  163.4799733 ,  165.0230518 ,\n",
       "        165.63885065,  162.51561088,  162.57192869,  159.81194788,\n",
       "        161.97281337,  163.96404337,  164.78499738,  166.33694953,\n",
       "        164.09732654,  161.12030349,  155.90815846,  153.33666787,\n",
       "        153.62924003,  154.13605954,  157.66816666,  156.45008264,\n",
       "        156.71520058,  157.76527655,  154.52313926,  156.05446399,\n",
       "        155.91463647,  155.03219542,  154.64024006,  153.8047458 ,\n",
       "        154.33935894,  156.01666974,  154.70364321,  155.10579879,\n",
       "        153.7183403 ,  152.24588318,  152.84576581,  152.81095025,\n",
       "        153.19015139,  152.73294703,  152.80614009,  153.18635133,\n",
       "        146.77915751,  147.55744305,  149.45479817,  145.6538543 ,\n",
       "        142.79869734,  140.3282354 ,  138.06388646,  140.14057531,\n",
       "        139.89331938,  140.33194141,  146.56414148,  145.41079574,\n",
       "        144.32087928,  142.81787922,  140.94180096,  138.73006476,\n",
       "        137.60268996,  136.59310108,  132.70790899,  134.39607942,\n",
       "        136.63398713,  139.01417163,  136.90929391,  132.00091108,\n",
       "        130.86285762,  130.60303702,  130.80278361,  130.05933393,\n",
       "        128.24916579,  131.26639591,  131.90934405,  133.71389562,\n",
       "        131.90205518,  131.65312581,  130.46574572,  129.39851075,\n",
       "        129.99009263,  128.4356311 ,  130.31047683,  126.81816553,\n",
       "        130.30454357,  128.12171171,  127.48989455,  127.77473975,\n",
       "        128.14913714,  126.62336369,  124.41764262,  122.90695566,\n",
       "        120.32540052,  120.5515005 ,  120.7621647 ,  119.41075139,\n",
       "        120.05710042,  121.02192006,  120.02964181,  118.38939962,\n",
       "        115.1273519 ,  112.482619  ,  109.93850718,  109.68904606,\n",
       "        109.75734571,  111.94819752,  115.15910492,  116.01536193,\n",
       "        115.05070566,  114.43516823,  114.31502941,  114.70105425,\n",
       "        113.68719418,  114.13002779,  113.70455473,  118.21902976,\n",
       "        119.00969057,  116.6520099 ,  114.77177019,  114.20544871,\n",
       "        115.55356877,  114.62608874,  113.32463733,  112.79666395,\n",
       "        113.0912467 ,  112.46419602,  110.61500496,  108.62619891,\n",
       "        109.02368936,  110.36050827,  109.64907841,  112.91107197,\n",
       "        110.4592251 ,  115.3095181 ,  119.50613606,  119.9356222 ,\n",
       "        115.78438327,  115.51648554,  114.40539733,  112.74201963,\n",
       "        113.10854199,  112.70744079,  112.75372588,  113.59346598,\n",
       "        114.57313773,  112.0887493 ,  114.78392982,  113.91581757,\n",
       "        113.85098062,  114.28466959,  111.34086436,  112.82480257,\n",
       "        117.19484235,  121.9961576 ,  130.65894299,  129.23425976,\n",
       "        130.51452373,  130.64006363,  133.15272564,  133.21692585,\n",
       "        131.76648951,  130.25192914,  129.35552568,  125.92482173,\n",
       "        129.44683675,  128.83530317,  127.11984419,  131.66837723,\n",
       "        131.12465313,  130.41405365,  129.81788642,  129.31681264,\n",
       "        130.76689695,  130.66411183,  129.0132195 ,  130.55901544,\n",
       "        129.66496528,  130.61046729,  129.4624096 ,  128.96242973,\n",
       "        128.64604763,  126.89838108,  128.02513998,  130.58065795,\n",
       "        130.02759269,  129.71391129,  127.78035648,  125.219124  ,\n",
       "        125.66374762,  125.00750609,  123.67063382,  123.05435495,\n",
       "        125.00263322,  126.67469433,  128.01657858,  128.81288581,\n",
       "        129.44581942,  131.68560362,  148.73596283,  143.23904921,\n",
       "        143.12996   ,  147.02787396,  145.96388861,  141.25950173,\n",
       "        139.46067319,  141.09710355,  139.7823085 ,  144.15335678,\n",
       "        144.22209587,  143.8844271 ,  155.23510364,  156.58094644,\n",
       "        153.30667999,  155.97037074,  152.53074617,  150.74822315,\n",
       "        151.62131466,  148.86931079,  153.82312499,  153.83509608,\n",
       "        150.59196915,  156.58542485,  153.35654111,  152.22126857,\n",
       "        146.51421973,  148.06843313,  155.09072096,  155.77879341,\n",
       "        157.2231775 ,  156.94314551,  154.57982319,  153.74646693,\n",
       "        155.05605133,  162.16218934,  158.24501968,  158.08891063,\n",
       "        160.75468265,  166.85714377,  167.88707718,  168.83955472,\n",
       "        185.24124151,  190.907614  ,  172.98317588,  165.57298567,\n",
       "        161.85531665,  161.75321367,  168.59385669,  166.62159167,\n",
       "        155.31878829,  152.51015501,  130.39569647,  135.37537509,\n",
       "        130.89006928,  127.65936834,  118.64274207,  117.0899106 ,\n",
       "        122.69483641,  115.07100864,  120.34388066,  120.3077981 ,\n",
       "        122.43918617,  124.71977332,  121.11762172,  124.01790211,\n",
       "        129.83514963,  134.38289147,  151.37425726,  156.95113887,\n",
       "        158.55417045,  169.2015233 ,  166.33699566,  168.48399694,\n",
       "        167.14349715,  161.36833432,  163.24214109,  164.74872365,\n",
       "        165.70916551,  178.94740526,  184.13797327,  185.79503536,\n",
       "        182.55556486,  178.42445355,  177.52311737,  175.70674019,\n",
       "        179.50675517,  188.76647771,  187.98451284,  190.7554629 ,\n",
       "        191.39181232,  190.07998907,  207.33924822,  214.88974286,\n",
       "        198.37617969,  189.88355136,  197.06621511,  208.3007244 ,\n",
       "        212.60435402,  220.11933742,  218.4195542 ,  231.71827496,\n",
       "        243.06544277,  237.58706675,  235.0838779 ,  245.05630992,\n",
       "        249.90998079,  248.93445549,  244.48318719,  241.83952204,\n",
       "        246.23344315,  243.46399036,  243.23644819,  240.85092069,\n",
       "        247.27075502,  262.98469952,  261.89055817,  264.46403242,\n",
       "        280.2919294 ,  299.17276287,  294.34613921,  294.83871762,\n",
       "        317.28910804,  314.19918967,  315.77569512,  318.02116427,\n",
       "        310.71163318,  315.50858747,  328.83692657,  329.20755454,\n",
       "        336.4076897 ,  343.45914173,  338.33329702,  338.02239672,\n",
       "        335.84779459,  350.98323072,  354.5037324 ,  371.17149152,\n",
       "        363.13107044,  355.94260309,  365.24801228,  368.71513888,\n",
       "        394.2549204 ,  432.9165186 ,  428.6584592 ,  415.06302587,\n",
       "        424.24289593,  430.47263038,  433.80795886,  431.00767801,\n",
       "        465.14880202,  547.88175844,  585.66640753,  571.36930581,\n",
       "        542.80871293,  513.51009795,  527.90315895,  526.14032628,\n",
       "        571.25983673,  584.19506078,  597.62046867,  708.09557139,\n",
       "        779.88391201,  851.54203964,  814.43915948,  732.12215744,\n",
       "        728.27202775,  724.33712277,  664.97940038,  686.34268023,\n",
       "        725.58145423,  728.21822519,  714.98229541,  701.18230543,\n",
       "        694.09285996,  716.24795621,  724.61581957,  711.82723969,\n",
       "        721.03337531,  732.06779496,  737.17590624,  738.20641217,\n",
       "        742.30480047,  700.02235171,  718.57553082,  713.24115189,\n",
       "        702.10215944,  731.66629977,  751.944963  ,  731.90177071,\n",
       "        768.64495286,  803.86766446,  843.41325532,  893.09456641,\n",
       "        933.57284002, 1002.39767315,  980.22402637,  882.0554321 ,\n",
       "        793.70912589,  809.10013124,  791.1106012 ,  785.90829318,\n",
       "        770.15334534,  771.77107265,  766.54634712,  753.64817617,\n",
       "        751.33785231,  712.80415559,  679.18781851,  646.7724757 ,\n",
       "        676.08182186,  677.80589853,  649.93981783,  650.93620375,\n",
       "        647.39757356,  656.96850367,  655.58662797,  644.47341661,\n",
       "        631.24029755,  632.6348803 ,  657.90493492,  686.89933048,\n",
       "        714.03295548,  683.38419596,  664.14821483,  672.09177584,\n",
       "        676.97177333,  705.83966555,  703.83898049,  684.68269908,\n",
       "        687.51344377,  713.79897371,  700.30575545,  716.17819635,\n",
       "        745.68408758,  754.0409088 ,  791.47001377,  787.16201199,\n",
       "        775.57918187,  767.19481944,  790.69815476,  780.53259662,\n",
       "        770.18205205,  762.29458841,  749.0120843 ,  746.23017225,\n",
       "        704.8124895 ,  710.65289697,  714.09463103,  706.02505237,\n",
       "        709.67375384,  708.20350949,  701.53649864,  705.05672434,\n",
       "        737.70997456,  741.42092502,  722.36972598,  719.12875476,\n",
       "        725.02161501,  735.31527293,  723.33521867,  715.77844653,\n",
       "        704.63766509,  716.19350917,  706.4249776 ,  696.46212226,\n",
       "        702.45741541,  699.84943184,  696.58495735,  686.41753572,\n",
       "        716.40568817,  696.75866517,  688.77532771,  678.37310825,\n",
       "        676.92711608,  676.15226159,  686.09032448,  691.62497876,\n",
       "        678.97749934,  673.0603113 ,  670.47628253,  664.21996178,\n",
       "        662.3490182 ,  656.98687926,  645.05214772,  668.3547328 ,\n",
       "        656.20425573,  649.3217402 ,  644.55946505,  644.06584417,\n",
       "        635.10172996,  634.67204563,  633.61529795,  631.95971559,\n",
       "        633.14486397,  647.12048841,  683.57376525,  690.67834709,\n",
       "        667.05906311,  691.38155639,  683.44031661,  668.4695178 ,\n",
       "        686.81187371,  666.73804109,  685.94405737,  683.46210906,\n",
       "        681.89198551,  744.78198767,  736.81833069,  724.74224263,\n",
       "        730.5448219 ,  713.8498977 ,  710.95388947,  708.07379824,\n",
       "        693.71365431,  717.91662275,  700.35217546,  695.02549812,\n",
       "        699.83374503,  711.15240793,  735.06067635,  698.25657513,\n",
       "        716.00013839,  702.72821302,  696.99391495,  718.72066052,\n",
       "        722.57617102,  726.48964912,  715.98627968,  712.38167753,\n",
       "        724.84141219,  718.72048974,  716.55316879,  712.16784932,\n",
       "        716.82421597,  711.27878598,  713.36495202,  789.39711077,\n",
       "        786.7891231 ,  811.11531808,  814.36565731,  795.34794983,\n",
       "        813.44313148,  756.93154013,  751.79221778,  763.90417394,\n",
       "        753.89270523,  746.85050476,  740.94333524,  723.55385151,\n",
       "        730.10069806,  733.53039795,  725.19823269,  727.44218818,\n",
       "        734.94732998,  763.57531131,  760.20656401,  761.25191509,\n",
       "        751.46575918,  741.93049882,  741.45083385,  731.97777033,\n",
       "        730.11700555,  724.65147173,  729.11575476,  739.75657128,\n",
       "        724.98661945,  718.9452147 ,  714.994622  ,  717.03169896,\n",
       "        714.25880532,  710.37784083,  705.39840555,  707.43228649,\n",
       "        710.09518396,  708.59124095,  705.21113391,  727.3906832 ,\n",
       "        741.74510266,  735.56116941,  733.56921464,  725.98079702,\n",
       "        720.34518162,  719.05874388,  718.51709551,  711.54824096,\n",
       "        715.80308869,  730.58330175,  722.0767575 ,  713.05185397,\n",
       "        722.60315887,  717.24873304,  723.21283187,  721.89754027,\n",
       "        674.92716035,  663.90326569,  669.29347156,  669.60183651,\n",
       "        681.78435858,  666.84769367,  660.90641485,  667.51064565,\n",
       "        664.92631467,  650.60349861,  644.04868648,  657.28331129,\n",
       "        651.35659497,  636.20623719,  621.54026568,  615.35788446,\n",
       "        605.72040824,  590.98875891,  612.26619245,  628.01812856,\n",
       "        613.36680218,  604.90175066,  611.23031391,  614.36010509,\n",
       "        612.90454182,  618.01474215,  620.96016725,  618.91826902,\n",
       "        612.5819966 ,  609.67588479,  607.42240498,  605.73701029,\n",
       "        612.09814499,  620.7715687 ,  617.32336051,  624.87614967,\n",
       "        630.71610927,  621.56554849,  623.27179133,  619.23987022,\n",
       "        610.88581336,  610.53816015,  610.6169402 ,  608.31198969,\n",
       "        607.37963237,  604.53468534,  606.2537148 ,  624.66175617,\n",
       "        632.19471632,  633.16127628,  629.59399919,  624.05801769,\n",
       "        623.82327788,  624.11369548,  624.10162716,  628.5435724 ,\n",
       "        622.3034018 ,  611.80377739,  615.68046347,  609.46081115,\n",
       "        631.86187295,  634.054051  ,  623.49336094,  592.64409727,\n",
       "        584.35041622,  579.17316901,  575.07761856,  565.24167423,\n",
       "        576.22390681,  566.01752991,  562.92409336,  563.7015743 ,\n",
       "        552.8554122 ,  554.25274934,  548.69400302,  549.84770972,\n",
       "        539.21434239,  530.65267961,  507.48150946,  509.10530773,\n",
       "        536.56834149,  531.00737922,  515.00892739,  505.57907296,\n",
       "        506.92111443,  513.19223607,  513.95747087,  521.46246996,\n",
       "        528.38465744,  532.58034142,  539.41567713,  544.01096743,\n",
       "        574.21669794,  580.97373039,  567.06629552,  549.69549524,\n",
       "        541.49775897,  526.4773923 ,  516.01407283,  518.57011021,\n",
       "        523.15618062,  520.00837711,  524.20071985,  525.5501411 ])"
      ]
     },
     "execution_count": 34,
     "metadata": {},
     "output_type": "execute_result"
    }
   ],
   "source": [
    "y_pred"
   ]
  },
  {
   "cell_type": "code",
   "execution_count": null,
   "id": "18e469cd",
   "metadata": {},
   "outputs": [],
   "source": []
  }
 ],
 "metadata": {
  "kernelspec": {
   "display_name": "Python 3 (ipykernel)",
   "language": "python",
   "name": "python3"
  },
  "language_info": {
   "codemirror_mode": {
    "name": "ipython",
    "version": 3
   },
   "file_extension": ".py",
   "mimetype": "text/x-python",
   "name": "python",
   "nbconvert_exporter": "python",
   "pygments_lexer": "ipython3",
   "version": "3.9.7"
  }
 },
 "nbformat": 4,
 "nbformat_minor": 5
}
